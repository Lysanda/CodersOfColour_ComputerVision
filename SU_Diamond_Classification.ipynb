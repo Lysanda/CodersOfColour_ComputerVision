{
  "nbformat": 4,
  "nbformat_minor": 0,
  "metadata": {
    "colab": {
      "name": "SU Diamond Classification.ipynb",
      "provenance": [],
      "collapsed_sections": [],
      "toc_visible": true,
      "include_colab_link": true
    },
    "kernelspec": {
      "name": "python3",
      "display_name": "Python 3"
    },
    "accelerator": "GPU",
    "widgets": {
      "application/vnd.jupyter.widget-state+json": {
        "0ef7bab9b52f42b3bc9340496de60852": {
          "model_module": "@jupyter-widgets/controls",
          "model_name": "HBoxModel",
          "state": {
            "_view_name": "HBoxView",
            "_dom_classes": [],
            "_model_name": "HBoxModel",
            "_view_module": "@jupyter-widgets/controls",
            "_model_module_version": "1.5.0",
            "_view_count": null,
            "_view_module_version": "1.5.0",
            "box_style": "",
            "layout": "IPY_MODEL_ddc8d540d6244139af5f8b37d90d87aa",
            "_model_module": "@jupyter-widgets/controls",
            "children": [
              "IPY_MODEL_5a9fa9ad0c0744dfb9a3bf492c5cfb1b",
              "IPY_MODEL_ad26c0c75dcc4f818a241ad92611eeaf"
            ]
          }
        },
        "ddc8d540d6244139af5f8b37d90d87aa": {
          "model_module": "@jupyter-widgets/base",
          "model_name": "LayoutModel",
          "state": {
            "_view_name": "LayoutView",
            "grid_template_rows": null,
            "right": null,
            "justify_content": null,
            "_view_module": "@jupyter-widgets/base",
            "overflow": null,
            "_model_module_version": "1.2.0",
            "_view_count": null,
            "flex_flow": null,
            "width": null,
            "min_width": null,
            "border": null,
            "align_items": null,
            "bottom": null,
            "_model_module": "@jupyter-widgets/base",
            "top": null,
            "grid_column": null,
            "overflow_y": null,
            "overflow_x": null,
            "grid_auto_flow": null,
            "grid_area": null,
            "grid_template_columns": null,
            "flex": null,
            "_model_name": "LayoutModel",
            "justify_items": null,
            "grid_row": null,
            "max_height": null,
            "align_content": null,
            "visibility": null,
            "align_self": null,
            "height": null,
            "min_height": null,
            "padding": null,
            "grid_auto_rows": null,
            "grid_gap": null,
            "max_width": null,
            "order": null,
            "_view_module_version": "1.2.0",
            "grid_template_areas": null,
            "object_position": null,
            "object_fit": null,
            "grid_auto_columns": null,
            "margin": null,
            "display": null,
            "left": null
          }
        },
        "5a9fa9ad0c0744dfb9a3bf492c5cfb1b": {
          "model_module": "@jupyter-widgets/controls",
          "model_name": "FloatProgressModel",
          "state": {
            "_view_name": "ProgressView",
            "style": "IPY_MODEL_27c6b4e60fe24081943f50aada17ea56",
            "_dom_classes": [],
            "description": "100%",
            "_model_name": "FloatProgressModel",
            "bar_style": "success",
            "max": 46827520,
            "_view_module": "@jupyter-widgets/controls",
            "_model_module_version": "1.5.0",
            "value": 46827520,
            "_view_count": null,
            "_view_module_version": "1.5.0",
            "orientation": "horizontal",
            "min": 0,
            "description_tooltip": null,
            "_model_module": "@jupyter-widgets/controls",
            "layout": "IPY_MODEL_7e05cad09c2b43c8acec94a1700fae19"
          }
        },
        "ad26c0c75dcc4f818a241ad92611eeaf": {
          "model_module": "@jupyter-widgets/controls",
          "model_name": "HTMLModel",
          "state": {
            "_view_name": "HTMLView",
            "style": "IPY_MODEL_f759e4276f68492ab2d3e63092f43e09",
            "_dom_classes": [],
            "description": "",
            "_model_name": "HTMLModel",
            "placeholder": "​",
            "_view_module": "@jupyter-widgets/controls",
            "_model_module_version": "1.5.0",
            "value": " 44.7M/44.7M [00:33&lt;00:00, 1.42MB/s]",
            "_view_count": null,
            "_view_module_version": "1.5.0",
            "description_tooltip": null,
            "_model_module": "@jupyter-widgets/controls",
            "layout": "IPY_MODEL_2c5412f836ca4b60a6f08a9c13a8ad21"
          }
        },
        "27c6b4e60fe24081943f50aada17ea56": {
          "model_module": "@jupyter-widgets/controls",
          "model_name": "ProgressStyleModel",
          "state": {
            "_view_name": "StyleView",
            "_model_name": "ProgressStyleModel",
            "description_width": "initial",
            "_view_module": "@jupyter-widgets/base",
            "_model_module_version": "1.5.0",
            "_view_count": null,
            "_view_module_version": "1.2.0",
            "bar_color": null,
            "_model_module": "@jupyter-widgets/controls"
          }
        },
        "7e05cad09c2b43c8acec94a1700fae19": {
          "model_module": "@jupyter-widgets/base",
          "model_name": "LayoutModel",
          "state": {
            "_view_name": "LayoutView",
            "grid_template_rows": null,
            "right": null,
            "justify_content": null,
            "_view_module": "@jupyter-widgets/base",
            "overflow": null,
            "_model_module_version": "1.2.0",
            "_view_count": null,
            "flex_flow": null,
            "width": null,
            "min_width": null,
            "border": null,
            "align_items": null,
            "bottom": null,
            "_model_module": "@jupyter-widgets/base",
            "top": null,
            "grid_column": null,
            "overflow_y": null,
            "overflow_x": null,
            "grid_auto_flow": null,
            "grid_area": null,
            "grid_template_columns": null,
            "flex": null,
            "_model_name": "LayoutModel",
            "justify_items": null,
            "grid_row": null,
            "max_height": null,
            "align_content": null,
            "visibility": null,
            "align_self": null,
            "height": null,
            "min_height": null,
            "padding": null,
            "grid_auto_rows": null,
            "grid_gap": null,
            "max_width": null,
            "order": null,
            "_view_module_version": "1.2.0",
            "grid_template_areas": null,
            "object_position": null,
            "object_fit": null,
            "grid_auto_columns": null,
            "margin": null,
            "display": null,
            "left": null
          }
        },
        "f759e4276f68492ab2d3e63092f43e09": {
          "model_module": "@jupyter-widgets/controls",
          "model_name": "DescriptionStyleModel",
          "state": {
            "_view_name": "StyleView",
            "_model_name": "DescriptionStyleModel",
            "description_width": "",
            "_view_module": "@jupyter-widgets/base",
            "_model_module_version": "1.5.0",
            "_view_count": null,
            "_view_module_version": "1.2.0",
            "_model_module": "@jupyter-widgets/controls"
          }
        },
        "2c5412f836ca4b60a6f08a9c13a8ad21": {
          "model_module": "@jupyter-widgets/base",
          "model_name": "LayoutModel",
          "state": {
            "_view_name": "LayoutView",
            "grid_template_rows": null,
            "right": null,
            "justify_content": null,
            "_view_module": "@jupyter-widgets/base",
            "overflow": null,
            "_model_module_version": "1.2.0",
            "_view_count": null,
            "flex_flow": null,
            "width": null,
            "min_width": null,
            "border": null,
            "align_items": null,
            "bottom": null,
            "_model_module": "@jupyter-widgets/base",
            "top": null,
            "grid_column": null,
            "overflow_y": null,
            "overflow_x": null,
            "grid_auto_flow": null,
            "grid_area": null,
            "grid_template_columns": null,
            "flex": null,
            "_model_name": "LayoutModel",
            "justify_items": null,
            "grid_row": null,
            "max_height": null,
            "align_content": null,
            "visibility": null,
            "align_self": null,
            "height": null,
            "min_height": null,
            "padding": null,
            "grid_auto_rows": null,
            "grid_gap": null,
            "max_width": null,
            "order": null,
            "_view_module_version": "1.2.0",
            "grid_template_areas": null,
            "object_position": null,
            "object_fit": null,
            "grid_auto_columns": null,
            "margin": null,
            "display": null,
            "left": null
          }
        }
      }
    }
  },
  "cells": [
    {
      "cell_type": "markdown",
      "metadata": {
        "id": "view-in-github",
        "colab_type": "text"
      },
      "source": [
        "<a href=\"https://colab.research.google.com/github/Lysanda/CodersOfColour_ComputerVision/blob/master/SU_Diamond_Classification.ipynb\" target=\"_parent\"><img src=\"https://colab.research.google.com/assets/colab-badge.svg\" alt=\"Open In Colab\"/></a>"
      ]
    },
    {
      "cell_type": "markdown",
      "metadata": {
        "id": "MIypTSxuqUMJ",
        "colab_type": "text"
      },
      "source": [
        "## Step 1: Setup the libraries and introduce the dataset"
      ]
    },
    {
      "cell_type": "code",
      "metadata": {
        "id": "Turf76Ob_56E",
        "colab_type": "code",
        "colab": {}
      },
      "source": [
        "from __future__ import print_function, division\n",
        "\n",
        "import torch\n",
        "import torch.nn as nn\n",
        "import torch.optim as optim\n",
        "from torch.optim import lr_scheduler\n",
        "import numpy as np\n",
        "import torchvision\n",
        "from torchvision import datasets, models, transforms\n",
        "import time\n",
        "import os\n",
        "import copy\n",
        "from torch.utils.data import Dataset, DataLoader\n",
        "\n",
        "import matplotlib.pyplot as plt\n",
        "\n",
        "from sklearn.metrics import confusion_matrix\n",
        "import itertools\n",
        "import matplotlib.pyplot as plt\n",
        "from sklearn.metrics import accuracy_score\n",
        "\n",
        "plt.ion()   # interactive mode"
      ],
      "execution_count": 10,
      "outputs": []
    },
    {
      "cell_type": "markdown",
      "metadata": {
        "id": "yXf8KoJPqrfc",
        "colab_type": "text"
      },
      "source": [
        "### Download the dataset we would be using"
      ]
    },
    {
      "cell_type": "code",
      "metadata": {
        "id": "FdiqFmIUqfIy",
        "colab_type": "code",
        "colab": {
          "base_uri": "https://localhost:8080/",
          "height": 245
        },
        "outputId": "f8fdb100-7fb5-49cd-c52a-57d2e3266e9a"
      },
      "source": [
        "!wget -c \"https://github.com/Lysanda/CodersOfColour_ComputerVision/raw/master/Image%20Classification/datacol.zip\""
      ],
      "execution_count": 11,
      "outputs": [
        {
          "output_type": "stream",
          "text": [
            "--2020-09-09 17:25:32--  https://github.com/Lysanda/CodersOfColour_ComputerVision/raw/master/Image%20Classification/datacol.zip\n",
            "Resolving github.com (github.com)... 192.30.255.112\n",
            "Connecting to github.com (github.com)|192.30.255.112|:443... connected.\n",
            "HTTP request sent, awaiting response... 302 Found\n",
            "Location: https://raw.githubusercontent.com/Lysanda/CodersOfColour_ComputerVision/master/Image%20Classification/datacol.zip [following]\n",
            "--2020-09-09 17:25:32--  https://raw.githubusercontent.com/Lysanda/CodersOfColour_ComputerVision/master/Image%20Classification/datacol.zip\n",
            "Resolving raw.githubusercontent.com (raw.githubusercontent.com)... 151.101.0.133, 151.101.64.133, 151.101.128.133, ...\n",
            "Connecting to raw.githubusercontent.com (raw.githubusercontent.com)|151.101.0.133|:443... connected.\n",
            "HTTP request sent, awaiting response... 416 Range Not Satisfiable\n",
            "\n",
            "    The file is already fully retrieved; nothing to do.\n",
            "\n"
          ],
          "name": "stdout"
        }
      ]
    },
    {
      "cell_type": "code",
      "metadata": {
        "id": "WkKEJI1krjDC",
        "colab_type": "code",
        "colab": {
          "base_uri": "https://localhost:8080/",
          "height": 1000
        },
        "outputId": "99fbcdab-377a-4b09-a9fe-99b516613e35"
      },
      "source": [
        "!unzip datacol.zip"
      ],
      "execution_count": 12,
      "outputs": [
        {
          "output_type": "stream",
          "text": [
            "Archive:  datacol.zip\n",
            "   creating: datacol/train/\n",
            "   creating: datacol/train/blue/\n",
            "  inflating: datacol/train/blue/0.jpg  \n",
            "  inflating: datacol/train/blue/1.jpg  \n",
            "  inflating: datacol/train/blue/10.jpg  \n",
            "  inflating: datacol/train/blue/11.jpg  \n",
            "  inflating: datacol/train/blue/12.jpg  \n",
            "  inflating: datacol/train/blue/13.jpg  \n",
            "  inflating: datacol/train/blue/14.jpg  \n",
            "  inflating: datacol/train/blue/15.jpg  \n",
            "  inflating: datacol/train/blue/16.jpg  \n",
            "  inflating: datacol/train/blue/17.jpg  \n",
            "  inflating: datacol/train/blue/18.jpg  \n",
            "  inflating: datacol/train/blue/19.jpg  \n",
            "  inflating: datacol/train/blue/2.jpg  \n",
            "  inflating: datacol/train/blue/20.jpg  \n",
            "  inflating: datacol/train/blue/21.jpg  \n",
            "  inflating: datacol/train/blue/22.jpg  \n",
            "  inflating: datacol/train/blue/3.jpg  \n",
            "  inflating: datacol/train/blue/4.jpg  \n",
            "  inflating: datacol/train/blue/5.jpg  \n",
            "  inflating: datacol/train/blue/6.jpg  \n",
            "  inflating: datacol/train/blue/7.jpg  \n",
            "  inflating: datacol/train/blue/8.jpg  \n",
            "  inflating: datacol/train/blue/9.jpg  \n",
            "   creating: datacol/train/pink/\n",
            "  inflating: datacol/train/pink/0.jpg  \n",
            "  inflating: datacol/train/pink/1.jpg  \n",
            "  inflating: datacol/train/pink/10.jpg  \n",
            "  inflating: datacol/train/pink/11.jpg  \n",
            "  inflating: datacol/train/pink/12.jpg  \n",
            "  inflating: datacol/train/pink/13.jpg  \n",
            "  inflating: datacol/train/pink/14.jpg  \n",
            "  inflating: datacol/train/pink/15.jpg  \n",
            "  inflating: datacol/train/pink/16.jpg  \n",
            "  inflating: datacol/train/pink/17.jpg  \n",
            "  inflating: datacol/train/pink/18.jpg  \n",
            "  inflating: datacol/train/pink/19.jpg  \n",
            "  inflating: datacol/train/pink/2.jpg  \n",
            "  inflating: datacol/train/pink/20.jpg  \n",
            "  inflating: datacol/train/pink/21.jpg  \n",
            "  inflating: datacol/train/pink/22.jpg  \n",
            "  inflating: datacol/train/pink/3.jpg  \n",
            "  inflating: datacol/train/pink/4.jpg  \n",
            "  inflating: datacol/train/pink/5.jpg  \n",
            "  inflating: datacol/train/pink/6.jpg  \n",
            "  inflating: datacol/train/pink/7.jpg  \n",
            "  inflating: datacol/train/pink/8.jpg  \n",
            "  inflating: datacol/train/pink/9.jpg  \n",
            "   creating: datacol/train/white/\n",
            "  inflating: datacol/train/white/0.jpg  \n",
            "  inflating: datacol/train/white/1.jpg  \n",
            "  inflating: datacol/train/white/10.jpg  \n",
            "  inflating: datacol/train/white/11.jpg  \n",
            "  inflating: datacol/train/white/12.jpg  \n",
            "  inflating: datacol/train/white/13.jpg  \n",
            "  inflating: datacol/train/white/14.jpg  \n",
            "  inflating: datacol/train/white/15.jpg  \n",
            "  inflating: datacol/train/white/16.jpg  \n",
            "  inflating: datacol/train/white/17.jpg  \n",
            "  inflating: datacol/train/white/18.jpg  \n",
            "  inflating: datacol/train/white/19.jpg  \n",
            "  inflating: datacol/train/white/2.jpg  \n",
            "  inflating: datacol/train/white/20.jpg  \n",
            "  inflating: datacol/train/white/21.jpg  \n",
            "  inflating: datacol/train/white/22.jpg  \n",
            "  inflating: datacol/train/white/3.jpg  \n",
            "  inflating: datacol/train/white/4.jpg  \n",
            "  inflating: datacol/train/white/5.jpg  \n",
            "  inflating: datacol/train/white/6.jpg  \n",
            "  inflating: datacol/train/white/7.jpg  \n",
            "  inflating: datacol/train/white/8.jpg  \n",
            "  inflating: datacol/train/white/9.jpg  \n",
            "   creating: datacol/train/yellow/\n",
            "  inflating: datacol/train/yellow/0.jpg  \n",
            "  inflating: datacol/train/yellow/1.jpg  \n",
            "  inflating: datacol/train/yellow/10.jpg  \n",
            "  inflating: datacol/train/yellow/11.jpg  \n",
            "  inflating: datacol/train/yellow/12.jpg  \n",
            "  inflating: datacol/train/yellow/13.jpg  \n",
            "  inflating: datacol/train/yellow/14.jpg  \n",
            "  inflating: datacol/train/yellow/15.jpg  \n",
            "  inflating: datacol/train/yellow/16.jpg  \n",
            "  inflating: datacol/train/yellow/17.jpg  \n",
            "  inflating: datacol/train/yellow/18.jpg  \n",
            "  inflating: datacol/train/yellow/19.jpg  \n",
            "  inflating: datacol/train/yellow/2.jpg  \n",
            "  inflating: datacol/train/yellow/20.jpg  \n",
            "  inflating: datacol/train/yellow/21.jpg  \n",
            "  inflating: datacol/train/yellow/22.jpg  \n",
            "  inflating: datacol/train/yellow/3.jpg  \n",
            "  inflating: datacol/train/yellow/4.jpg  \n",
            "  inflating: datacol/train/yellow/5.jpg  \n",
            "  inflating: datacol/train/yellow/6.jpg  \n",
            "  inflating: datacol/train/yellow/7.jpg  \n",
            "  inflating: datacol/train/yellow/8.jpg  \n",
            "  inflating: datacol/train/yellow/9.jpg  \n",
            "   creating: datacol/val/\n",
            "   creating: datacol/val/blue/\n",
            "  inflating: datacol/val/blue/23.jpg  \n",
            "  inflating: datacol/val/blue/24.jpg  \n",
            "  inflating: datacol/val/blue/25.jpg  \n",
            "  inflating: datacol/val/blue/26.jpg  \n",
            "  inflating: datacol/val/blue/27.jpg  \n",
            "  inflating: datacol/val/blue/28.jpg  \n",
            "  inflating: datacol/val/blue/29.jpg  \n",
            "  inflating: datacol/val/blue/30.jpg  \n",
            "  inflating: datacol/val/blue/31.jpg  \n",
            "  inflating: datacol/val/blue/32.jpg  \n",
            "  inflating: datacol/val/blue/33.jpg  \n",
            "  inflating: datacol/val/blue/34.jpg  \n",
            "   creating: datacol/val/pink/\n",
            "  inflating: datacol/val/pink/23.jpg  \n",
            "  inflating: datacol/val/pink/24.jpg  \n",
            "  inflating: datacol/val/pink/25.jpg  \n",
            "  inflating: datacol/val/pink/26.jpg  \n",
            "  inflating: datacol/val/pink/27.jpg  \n",
            "  inflating: datacol/val/pink/28.jpg  \n",
            "  inflating: datacol/val/pink/29.jpg  \n",
            "  inflating: datacol/val/pink/30.jpg  \n",
            "  inflating: datacol/val/pink/31.jpg  \n",
            "  inflating: datacol/val/pink/32.jpg  \n",
            "  inflating: datacol/val/pink/33.jpg  \n",
            "  inflating: datacol/val/pink/34.jpg  \n",
            "  inflating: datacol/val/pink/35.jpg  \n",
            "   creating: datacol/val/white/\n",
            "  inflating: datacol/val/white/23.jpg  \n",
            "  inflating: datacol/val/white/24.jpg  \n",
            "  inflating: datacol/val/white/25.jpg  \n",
            "  inflating: datacol/val/white/26.jpg  \n",
            "  inflating: datacol/val/white/27.jpg  \n",
            "  inflating: datacol/val/white/28.jpg  \n",
            "  inflating: datacol/val/white/29.jpg  \n",
            "  inflating: datacol/val/white/30.jpg  \n",
            "  inflating: datacol/val/white/31.jpg  \n",
            "  inflating: datacol/val/white/32.jpg  \n",
            "  inflating: datacol/val/white/33.jpg  \n",
            "  inflating: datacol/val/white/34.jpg  \n",
            "  inflating: datacol/val/white/35.jpg  \n",
            "   creating: datacol/val/yellow/\n",
            "  inflating: datacol/val/yellow/23.jpg  \n",
            "  inflating: datacol/val/yellow/24.jpg  \n",
            "  inflating: datacol/val/yellow/25.jpg  \n",
            "  inflating: datacol/val/yellow/26.jpg  \n",
            "  inflating: datacol/val/yellow/27.jpg  \n",
            "  inflating: datacol/val/yellow/28.jpg  \n",
            "  inflating: datacol/val/yellow/29.jpg  \n",
            "  inflating: datacol/val/yellow/30.jpg  \n",
            "  inflating: datacol/val/yellow/31.jpg  \n",
            "  inflating: datacol/val/yellow/32.jpg  \n",
            "  inflating: datacol/val/yellow/33.jpg  \n",
            "  inflating: datacol/val/yellow/34.jpg  \n"
          ],
          "name": "stdout"
        }
      ]
    },
    {
      "cell_type": "markdown",
      "metadata": {
        "id": "wJq3iO89rAbM",
        "colab_type": "text"
      },
      "source": [
        "### Resize, reshape and augment the dataset\n",
        "---\n",
        "The various images in our dataset do not have the same shape and size, we therefore resize and reshape them so they have the same size and shape\n"
      ]
    },
    {
      "cell_type": "code",
      "metadata": {
        "id": "xUf-yaF_qvK7",
        "colab_type": "code",
        "colab": {}
      },
      "source": [
        "data_transforms_wo_normalization = {\n",
        "    'train': transforms.Compose([\n",
        "        transforms.RandomResizedCrop(224),\n",
        "        transforms.RandomHorizontalFlip(),\n",
        "        transforms.ToTensor(),\n",
        "        # transforms.Normalize([0.485, 0.456, 0.406], [0.229, 0.224, 0.225])\n",
        "    ]),\n",
        "    'val': transforms.Compose([\n",
        "        transforms.Resize(256),\n",
        "        transforms.CenterCrop(224),\n",
        "        transforms.ToTensor(),\n",
        "        # transforms.Normalize([0.485, 0.456, 0.406], [0.229, 0.224, 0.225])\n",
        "    ]),\n",
        "}"
      ],
      "execution_count": 13,
      "outputs": []
    },
    {
      "cell_type": "markdown",
      "metadata": {
        "id": "HRfxJvBSrfC7",
        "colab_type": "text"
      },
      "source": [
        "### Load the dataset and set up normalization"
      ]
    },
    {
      "cell_type": "code",
      "metadata": {
        "id": "XNGsdnsErXdj",
        "colab_type": "code",
        "colab": {}
      },
      "source": [
        "data_dir = 'datacol'\n",
        "batch_size = 4\n",
        "\n",
        "train_dataset = datasets.ImageFolder(os.path.join(data_dir, 'train'),\n",
        "                                          data_transforms_wo_normalization['train'])\n",
        "\n",
        "train_dataloader = DataLoader(train_dataset, batch_size=batch_size,\n",
        "                                             shuffle=True)"
      ],
      "execution_count": 14,
      "outputs": []
    },
    {
      "cell_type": "code",
      "metadata": {
        "id": "FvLVe4pOsD-_",
        "colab_type": "code",
        "colab": {}
      },
      "source": [
        "train_dataloader = DataLoader(train_dataset, batch_size=len(train_dataset), shuffle=True)\n",
        "data = next(iter(train_dataloader))\n",
        "\n",
        "custom_mean = []\n",
        "custom_std = []\n",
        "\n",
        "for channels in range(3):\n",
        "  custom_mean.append(data[0][:, channels, :, :].mean())\n",
        "  custom_std.append(data[0][:, channels, :, :].std())"
      ],
      "execution_count": 15,
      "outputs": []
    },
    {
      "cell_type": "code",
      "metadata": {
        "id": "jK0ROtqZsr66",
        "colab_type": "code",
        "colab": {
          "base_uri": "https://localhost:8080/",
          "height": 52
        },
        "outputId": "71b4c522-c4f4-4c7c-944e-bea2067255a9"
      },
      "source": [
        "print(\"Mean: \", custom_mean)\n",
        "print(\"STD: \", custom_std)"
      ],
      "execution_count": 16,
      "outputs": [
        {
          "output_type": "stream",
          "text": [
            "Mean:  [tensor(0.5899), tensor(0.5882), tensor(0.6626)]\n",
            "STD:  [tensor(0.3612), tensor(0.3370), tensor(0.3029)]\n"
          ],
          "name": "stdout"
        }
      ]
    },
    {
      "cell_type": "code",
      "metadata": {
        "id": "JwhPHwQcs5jF",
        "colab_type": "code",
        "colab": {}
      },
      "source": [
        "data_transforms_with_normalization = {\n",
        "    'train': transforms.Compose([\n",
        "        transforms.RandomResizedCrop(224),\n",
        "        transforms.RandomHorizontalFlip(),\n",
        "        transforms.ToTensor(),\n",
        "        transforms.Normalize(custom_mean, custom_std)\n",
        "    ]),\n",
        "    'val': transforms.Compose([\n",
        "        transforms.Resize(256),\n",
        "        transforms.CenterCrop(224),\n",
        "        transforms.ToTensor(),\n",
        "        transforms.Normalize(custom_mean, custom_std)\n",
        "    ]),\n",
        "}"
      ],
      "execution_count": 17,
      "outputs": []
    },
    {
      "cell_type": "code",
      "metadata": {
        "id": "L4S1e3CdtVTK",
        "colab_type": "code",
        "colab": {
          "base_uri": "https://localhost:8080/",
          "height": 35
        },
        "outputId": "b0b20dc2-0311-4ac1-959a-ec9fb3be6cdd"
      },
      "source": [
        "train_dataset = datasets.ImageFolder(os.path.join(data_dir, 'train'),\n",
        "                                          data_transforms_with_normalization['train'])\n",
        "\n",
        "train_dataloader = DataLoader(train_dataset, batch_size=batch_size,\n",
        "                                             shuffle=True)\n",
        "\n",
        "test_dataset = datasets.ImageFolder(os.path.join(data_dir, 'val'),\n",
        "                                          data_transforms_with_normalization['val'])\n",
        "\n",
        "test_dataloader = DataLoader(test_dataset, batch_size=batch_size,\n",
        "                                             shuffle=True)\n",
        "\n",
        "class_names = train_dataset.classes\n",
        "print(\"CLASSES: \", class_names)\n",
        "device = torch.device(\"cuda:0\" if torch.cuda.is_available() else \"cpu\")\n",
        "\n",
        "dataloader = {'train': train_dataloader,\n",
        "              'val': test_dataloader}\n",
        "\n",
        "dataset_sizes = {'train': len(train_dataset),\n",
        "              'val': len(test_dataset)}"
      ],
      "execution_count": 18,
      "outputs": [
        {
          "output_type": "stream",
          "text": [
            "CLASSES:  ['blue', 'pink', 'white', 'yellow']\n"
          ],
          "name": "stdout"
        }
      ]
    },
    {
      "cell_type": "markdown",
      "metadata": {
        "id": "_V8Z-P-PuCdS",
        "colab_type": "text"
      },
      "source": [
        "## Step 2: Visualizing some of the images"
      ]
    },
    {
      "cell_type": "markdown",
      "metadata": {
        "id": "SaZtpzHhuVOC",
        "colab_type": "text"
      },
      "source": [
        "### Setup function for visualizing dataset images"
      ]
    },
    {
      "cell_type": "code",
      "metadata": {
        "id": "AAOYojyStuy8",
        "colab_type": "code",
        "colab": {}
      },
      "source": [
        "def imshow(inp, title=None):\n",
        "    \"\"\"Imshow for Tensor.\"\"\"\n",
        "    inp = inp.numpy().transpose((1, 2, 0))\n",
        "    mean = np.array(custom_mean)\n",
        "    std = np.array(custom_std)\n",
        "    inp = std * inp + mean\n",
        "    inp = np.clip(inp, 0, 1)\n",
        "    plt.imshow(inp)\n",
        "    if title is not None:\n",
        "        plt.title(title)\n",
        "    plt.pause(0.001)  # pause a bit so that plots are updated"
      ],
      "execution_count": 19,
      "outputs": []
    },
    {
      "cell_type": "markdown",
      "metadata": {
        "id": "u4JINkemuee4",
        "colab_type": "text"
      },
      "source": [
        "### Displaying some of the images"
      ]
    },
    {
      "cell_type": "code",
      "metadata": {
        "id": "4JzZHXaIuPRK",
        "colab_type": "code",
        "colab": {
          "base_uri": "https://localhost:8080/",
          "height": 148
        },
        "outputId": "6bca8bf8-6d5c-4d49-d73a-801777df3acc"
      },
      "source": [
        "# Get a batch of training data\n",
        "inputs, classes = next(iter(test_dataloader))\n",
        "\n",
        "# Make a grid from batch\n",
        "out = torchvision.utils.make_grid(inputs)\n",
        "\n",
        "imshow(out, title=[class_names[x] for x in classes])"
      ],
      "execution_count": 20,
      "outputs": [
        {
          "output_type": "display_data",
          "data": {
            "image/png": "[encoded data removed]",
            "text/plain": [
              "<Figure size 432x288 with 1 Axes>"
            ]
          },
          "metadata": {
            "tags": [],
            "needs_background": "light"
          }
        }
      ]
    },
    {
      "cell_type": "markdown",
      "metadata": {
        "id": "Nnqr43K6upoW",
        "colab_type": "text"
      },
      "source": [
        "## Step 3: Training the model"
      ]
    },
    {
      "cell_type": "markdown",
      "metadata": {
        "id": "-dGJxq98zx50",
        "colab_type": "text"
      },
      "source": [
        "### Define the function to implement training and evaluating the model"
      ]
    },
    {
      "cell_type": "code",
      "metadata": {
        "id": "EaDt6ktsudQ_",
        "colab_type": "code",
        "colab": {}
      },
      "source": [
        "training_loss = []\n",
        "test_loss = []\n",
        "\n",
        "training_accuracy = []\n",
        "test_accuracy = []\n",
        "\n",
        "def train_model(model, criterion, optimizer, scheduler, num_epochs=25):\n",
        "  since = time.time() # To measure time taken to build and train the model\n",
        "\n",
        "  best_model_wts = copy.deepcopy(model.state_dict()) # Save weight of best model\n",
        "  best_acc = 0.0 # Save best accuracy\n",
        "\n",
        "  for epoch in range(num_epochs):\n",
        "    print('Epoch {}/{}'.format(epoch, num_epochs - 1))\n",
        "    print('-' * 10)\n",
        "\n",
        "    # Each epoch has its training and validation\n",
        "    for phase in ['train', 'val']:\n",
        "      if phase == 'train':\n",
        "        model.train()\n",
        "      else:\n",
        "        model.eval()\n",
        "\n",
        "      running_loss = 0.0\n",
        "      running_corrects = 0\n",
        "\n",
        "      for inputs, labels in dataloader[phase]:\n",
        "        inputs = inputs.to(device) # Move data to GPU if you are using GPU\n",
        "        labels = labels.to(device) # Move data to GPU if you are using GPU\n",
        "\n",
        "        optimizer.zero_grad() # Set gradients to zero so it does not accumulate\n",
        "\n",
        "        with torch.set_grad_enabled(phase == 'train'): # Train in train phase\n",
        "          outputs = model(inputs)\n",
        "          _, preds = torch.max(outputs, 1)\n",
        "          loss = criterion(outputs, labels) # Compare ground truth with outputs\n",
        "\n",
        "          # Backward propagation if in train mode\n",
        "          if phase == 'train':\n",
        "            loss.backward()\n",
        "            optimizer.step()\n",
        "\n",
        "        # Compute loss and accuracy\n",
        "        running_loss += loss.item() * inputs.size(0)\n",
        "        \n",
        "        \n",
        "        running_corrects += torch.sum(preds == labels.data)\n",
        "\n",
        "      if phase =='train':\n",
        "        scheduler.step()\n",
        "\n",
        "      \n",
        "      epoch_loss = running_loss / dataset_sizes[phase]\n",
        "      epoch_acc = running_corrects.double() / dataset_sizes[phase]\n",
        "\n",
        "      if phase == 'train':\n",
        "        training_loss.append(epoch_loss)\n",
        "        training_accuracy.append(epoch_acc)\n",
        "      else:\n",
        "        test_loss.append(running_loss)\n",
        "        test_accuracy.append(epoch_acc)\n",
        "\n",
        "      print('{} Loss: {:.4f} Acc: {:.4f}'.format(phase, epoch_loss, epoch_acc))\n",
        "\n",
        "      # deep copy the model\n",
        "      if phase == 'val' and epoch_acc > best_acc:\n",
        "        best_acc = epoch_acc\n",
        "        best_model_wts = copy.deepcopy(model.state_dict())\n",
        "\n",
        "    print()\n",
        "\n",
        "  time_elapsed = time.time() - since\n",
        "  print('Training complete in {:.0f}m {:.0f}s'.format(time_elapsed // 60, time_elapsed % 60))\n",
        "  print('Best val Acc: {:4f}'.format(best_acc))\n",
        "\n",
        "  model.load_state_dict(best_model_wts) # Load the best model weights\n",
        "  return model"
      ],
      "execution_count": 21,
      "outputs": []
    },
    {
      "cell_type": "markdown",
      "metadata": {
        "id": "1W7uVdz1z4PK",
        "colab_type": "text"
      },
      "source": [
        "### Finetuning the model we choose to use"
      ]
    },
    {
      "cell_type": "code",
      "metadata": {
        "id": "VlAr1Ir6yb0e",
        "colab_type": "code",
        "colab": {
          "base_uri": "https://localhost:8080/",
          "height": 104,
          "referenced_widgets": [
            "0ef7bab9b52f42b3bc9340496de60852",
            "ddc8d540d6244139af5f8b37d90d87aa",
            "5a9fa9ad0c0744dfb9a3bf492c5cfb1b",
            "ad26c0c75dcc4f818a241ad92611eeaf",
            "27c6b4e60fe24081943f50aada17ea56",
            "7e05cad09c2b43c8acec94a1700fae19",
            "f759e4276f68492ab2d3e63092f43e09",
            "2c5412f836ca4b60a6f08a9c13a8ad21"
          ]
        },
        "outputId": "1130812b-3ef5-4e84-b30d-11bd5123a965"
      },
      "source": [
        "model_ft = models.resnet18(pretrained=True) # Choose a model to use\n",
        "num_ftrs = model_ft.fc.in_features\n",
        "# Here the size of each output sample is set to 2.\n",
        "# Alternatively, it can be generalized to nn.Linear(num_ftrs, len(class_names)).\n",
        "model_ft.fc = nn.Linear(num_ftrs, len(class_names))\n",
        "\n",
        "model_ft = model_ft.to(device)\n",
        "\n",
        "criterion = nn.CrossEntropyLoss()\n",
        "\n",
        "# Observe that all parameters are being optimized\n",
        "optimizer_ft = optim.SGD(model_ft.parameters(), lr=0.001, momentum=0.9)\n",
        "\n",
        "# Decay LR by a factor of 0.1 every 7 epochs\n",
        "exp_lr_scheduler = lr_scheduler.StepLR(optimizer_ft, step_size=7, gamma=0.1)"
      ],
      "execution_count": 22,
      "outputs": [
        {
          "output_type": "stream",
          "text": [
            "Downloading: \"https://download.pytorch.org/models/resnet18-5c106cde.pth\" to /root/.cache/torch/hub/checkpoints/resnet18-5c106cde.pth\n"
          ],
          "name": "stderr"
        },
        {
          "output_type": "display_data",
          "data": {
            "application/vnd.jupyter.widget-view+json": {
              "model_id": "0ef7bab9b52f42b3bc9340496de60852",
              "version_minor": 0,
              "version_major": 2
            },
            "text/plain": [
              "HBox(children=(FloatProgress(value=0.0, max=46827520.0), HTML(value='')))"
            ]
          },
          "metadata": {
            "tags": []
          }
        },
        {
          "output_type": "stream",
          "text": [
            "\n"
          ],
          "name": "stdout"
        }
      ]
    },
    {
      "cell_type": "code",
      "metadata": {
        "id": "tgB2w2WXydNa",
        "colab_type": "code",
        "colab": {
          "base_uri": "https://localhost:8080/",
          "height": 1000
        },
        "outputId": "2ebca5a8-4e8e-42fd-a0a2-5310c6a76902"
      },
      "source": [
        "model_ft = train_model(model_ft, criterion, optimizer_ft, exp_lr_scheduler,\n",
        "                       num_epochs=25)"
      ],
      "execution_count": 23,
      "outputs": [
        {
          "output_type": "stream",
          "text": [
            "Epoch 0/24\n",
            "----------\n",
            "train Loss: 1.0517 Acc: 0.5870\n",
            "val Loss: 0.5996 Acc: 0.6800\n",
            "\n",
            "Epoch 1/24\n",
            "----------\n",
            "train Loss: 0.7001 Acc: 0.7500\n",
            "val Loss: 0.4277 Acc: 0.8800\n",
            "\n",
            "Epoch 2/24\n",
            "----------\n",
            "train Loss: 0.3601 Acc: 0.8804\n",
            "val Loss: 0.1266 Acc: 0.9400\n",
            "\n",
            "Epoch 3/24\n",
            "----------\n",
            "train Loss: 0.3961 Acc: 0.8478\n",
            "val Loss: 0.0658 Acc: 1.0000\n",
            "\n",
            "Epoch 4/24\n",
            "----------\n",
            "train Loss: 0.4953 Acc: 0.8587\n",
            "val Loss: 0.4732 Acc: 0.8800\n",
            "\n",
            "Epoch 5/24\n",
            "----------\n",
            "train Loss: 0.3728 Acc: 0.8370\n",
            "val Loss: 0.1122 Acc: 0.9800\n",
            "\n",
            "Epoch 6/24\n",
            "----------\n",
            "train Loss: 0.1752 Acc: 0.9457\n",
            "val Loss: 0.3727 Acc: 0.8600\n",
            "\n",
            "Epoch 7/24\n",
            "----------\n",
            "train Loss: 0.2768 Acc: 0.9457\n",
            "val Loss: 0.2041 Acc: 0.8800\n",
            "\n",
            "Epoch 8/24\n",
            "----------\n",
            "train Loss: 0.0882 Acc: 0.9674\n",
            "val Loss: 0.1215 Acc: 0.9600\n",
            "\n",
            "Epoch 9/24\n",
            "----------\n",
            "train Loss: 0.2635 Acc: 0.9457\n",
            "val Loss: 0.0928 Acc: 0.9800\n",
            "\n",
            "Epoch 10/24\n",
            "----------\n",
            "train Loss: 0.2503 Acc: 0.9348\n",
            "val Loss: 0.1371 Acc: 0.9600\n",
            "\n",
            "Epoch 11/24\n",
            "----------\n",
            "train Loss: 0.1253 Acc: 0.9783\n",
            "val Loss: 0.1829 Acc: 0.8800\n",
            "\n",
            "Epoch 12/24\n",
            "----------\n",
            "train Loss: 0.1406 Acc: 0.9891\n",
            "val Loss: 0.1761 Acc: 0.8800\n",
            "\n",
            "Epoch 13/24\n",
            "----------\n",
            "train Loss: 0.1233 Acc: 0.9783\n",
            "val Loss: 0.2379 Acc: 0.8800\n",
            "\n",
            "Epoch 14/24\n",
            "----------\n",
            "train Loss: 0.1105 Acc: 0.9565\n",
            "val Loss: 0.2573 Acc: 0.8800\n",
            "\n",
            "Epoch 15/24\n",
            "----------\n",
            "train Loss: 0.1113 Acc: 0.9891\n",
            "val Loss: 0.1849 Acc: 0.8800\n",
            "\n",
            "Epoch 16/24\n",
            "----------\n",
            "train Loss: 0.1931 Acc: 0.9348\n",
            "val Loss: 0.2135 Acc: 0.8800\n",
            "\n",
            "Epoch 17/24\n",
            "----------\n",
            "train Loss: 0.1644 Acc: 0.9565\n",
            "val Loss: 0.2150 Acc: 0.8800\n",
            "\n",
            "Epoch 18/24\n",
            "----------\n",
            "train Loss: 0.0944 Acc: 0.9674\n",
            "val Loss: 0.2460 Acc: 0.8800\n",
            "\n",
            "Epoch 19/24\n",
            "----------\n",
            "train Loss: 0.1334 Acc: 0.9457\n",
            "val Loss: 0.3220 Acc: 0.8800\n",
            "\n",
            "Epoch 20/24\n",
            "----------\n",
            "train Loss: 0.0664 Acc: 1.0000\n",
            "val Loss: 0.2699 Acc: 0.8800\n",
            "\n",
            "Epoch 21/24\n",
            "----------\n",
            "train Loss: 0.1230 Acc: 0.9565\n",
            "val Loss: 0.1858 Acc: 0.9000\n",
            "\n",
            "Epoch 22/24\n",
            "----------\n",
            "train Loss: 0.1182 Acc: 0.9674\n",
            "val Loss: 0.2312 Acc: 0.8800\n",
            "\n",
            "Epoch 23/24\n",
            "----------\n",
            "train Loss: 0.0927 Acc: 0.9783\n",
            "val Loss: 0.2093 Acc: 0.8800\n",
            "\n",
            "Epoch 24/24\n",
            "----------\n",
            "train Loss: 0.1093 Acc: 0.9565\n",
            "val Loss: 0.1308 Acc: 0.9800\n",
            "\n",
            "Training complete in 0m 23s\n",
            "Best val Acc: 1.000000\n"
          ],
          "name": "stdout"
        }
      ]
    },
    {
      "cell_type": "markdown",
      "metadata": {
        "id": "fKDPQx0n1VXv",
        "colab_type": "text"
      },
      "source": [
        "## Step 4: Visualizing the results"
      ]
    },
    {
      "cell_type": "markdown",
      "metadata": {
        "id": "qR-jz6CrP9Dr",
        "colab_type": "text"
      },
      "source": [
        "### Setup function to visualize results of the model"
      ]
    },
    {
      "cell_type": "code",
      "metadata": {
        "id": "y9lTsT5J0Ffs",
        "colab_type": "code",
        "colab": {}
      },
      "source": [
        "def visualize_model(model, num_images=6):\n",
        "  was_training = model.training\n",
        "\n",
        "  model.eval()\n",
        "  images_so_far = 0\n",
        "  fig = plt.figure()\n",
        "\n",
        "  with torch.no_grad():\n",
        "    for i, (inputs, labels) in enumerate(dataloader['val']):\n",
        "      inputs = inputs.to(device)\n",
        "      labels = labels.to(device)\n",
        "\n",
        "      outputs = model(inputs)\n",
        "      _, preds = torch.max(outputs, 1)\n",
        "\n",
        "      for j in range(inputs.size()[0]):\n",
        "        images_so_far += 1\n",
        "        ax = plt.subplot(num_images//2, 2, images_so_far)\n",
        "\n",
        "        ax.axis('off')\n",
        "        ax.set_title('predicted: {}'.format(class_names[preds[j]]))\n",
        "        imshow(inputs.cpu().data[j])\n",
        "\n",
        "        if images_so_far == num_images:\n",
        "          model.train(mode=was_training)\n",
        "          return\n",
        "\n",
        "    model.train(mode=was_training)"
      ],
      "execution_count": 24,
      "outputs": []
    },
    {
      "cell_type": "markdown",
      "metadata": {
        "id": "Ve9xAK7yQCtV",
        "colab_type": "text"
      },
      "source": [
        "### Show model predictions"
      ]
    },
    {
      "cell_type": "code",
      "metadata": {
        "id": "4sR3kCIb1T1C",
        "colab_type": "code",
        "colab": {
          "base_uri": "https://localhost:8080/",
          "height": 581
        },
        "outputId": "fd4accd1-1eb6-4a97-a6e8-1c60401bef10"
      },
      "source": [
        "visualize_model(model_ft)\n",
        "plt.ioff()\n",
        "plt.show()"
      ],
      "execution_count": 25,
      "outputs": [
        {
          "output_type": "display_data",
          "data": {
            "image/png": "[encoded data removed]",
            "text/plain": [
              "<Figure size 432x288 with 1 Axes>"
            ]
          },
          "metadata": {
            "tags": [],
            "needs_background": "light"
          }
        },
        {
          "output_type": "display_data",
          "data": {
            "image/png": "[encoded data removed]",
            "text/plain": [
              "<Figure size 432x288 with 1 Axes>"
            ]
          },
          "metadata": {
            "tags": [],
            "needs_background": "light"
          }
        },
        {
          "output_type": "display_data",
          "data": {
            "image/png": "[encoded data removed]",
            "text/plain": [
              "<Figure size 432x288 with 1 Axes>"
            ]
          },
          "metadata": {
            "tags": [],
            "needs_background": "light"
          }
        },
        {
          "output_type": "display_data",
          "data": {
            "image/png": "[encoded data removed]",
            "text/plain": [
              "<Figure size 432x288 with 1 Axes>"
            ]
          },
          "metadata": {
            "tags": [],
            "needs_background": "light"
          }
        },
        {
          "output_type": "display_data",
          "data": {
            "image/png": "[encoded data removed]",
            "text/plain": [
              "<Figure size 432x288 with 1 Axes>"
            ]
          },
          "metadata": {
            "tags": [],
            "needs_background": "light"
          }
        },
        {
          "output_type": "display_data",
          "data": {
            "image/png": "[encoded data removed]",
            "text/plain": [
              "<Figure size 432x288 with 1 Axes>"
            ]
          },
          "metadata": {
            "tags": [],
            "needs_background": "light"
          }
        }
      ]
    },
    {
      "cell_type": "markdown",
      "metadata": {
        "id": "uERz5czGP4MX",
        "colab_type": "text"
      },
      "source": [
        "## Step 5: Plot the graph for accuracy and loss"
      ]
    },
    {
      "cell_type": "markdown",
      "metadata": {
        "id": "JQqleCQ7RPxF",
        "colab_type": "text"
      },
      "source": [
        "### Training and test loss"
      ]
    },
    {
      "cell_type": "code",
      "metadata": {
        "id": "dFbUrajH1bf7",
        "colab_type": "code",
        "colab": {
          "base_uri": "https://localhost:8080/",
          "height": 297
        },
        "outputId": "e9137881-870e-4ef9-9ddd-38258d06427c"
      },
      "source": [
        "fig = plt.figure()\n",
        "plt.plot(training_loss, color='blue')\n",
        "plt.plot(test_loss, color='red')\n",
        "plt.legend(['Train Loss', 'Test Loss'], loc='upper right')\n",
        "plt.xlabel('Number of epoch completed')\n",
        "plt.ylabel('negative log likelihood loss')"
      ],
      "execution_count": 26,
      "outputs": [
        {
          "output_type": "execute_result",
          "data": {
            "text/plain": [
              "Text(0, 0.5, 'negative log likelihood loss')"
            ]
          },
          "metadata": {
            "tags": []
          },
          "execution_count": 26
        },
        {
          "output_type": "display_data",
          "data": {
            "image/png": "[encoded data removed]",
            "text/plain": [
              "<Figure size 432x288 with 1 Axes>"
            ]
          },
          "metadata": {
            "tags": [],
            "needs_background": "light"
          }
        }
      ]
    },
    {
      "cell_type": "markdown",
      "metadata": {
        "id": "gOWqH3IGRS7s",
        "colab_type": "text"
      },
      "source": [
        "### Training and test accuracy"
      ]
    },
    {
      "cell_type": "code",
      "metadata": {
        "id": "6ePhVNBIQTAz",
        "colab_type": "code",
        "colab": {
          "base_uri": "https://localhost:8080/",
          "height": 297
        },
        "outputId": "48566e23-65b5-4288-bdb1-84c206429bd0"
      },
      "source": [
        "fig = plt.figure()\n",
        "plt.plot(training_accuracy, color='blue')\n",
        "plt.plot(test_accuracy, color='red')\n",
        "plt.legend(['Train Accuracy', 'Test Accuracy'], loc='upper left')\n",
        "plt.xlabel('Number of epoch completed')\n",
        "plt.ylabel('negative log likelihood loss')"
      ],
      "execution_count": 27,
      "outputs": [
        {
          "output_type": "execute_result",
          "data": {
            "text/plain": [
              "Text(0, 0.5, 'negative log likelihood loss')"
            ]
          },
          "metadata": {
            "tags": []
          },
          "execution_count": 27
        },
        {
          "output_type": "display_data",
          "data": {
            "image/png": "[encoded data removed]",
            "text/plain": [
              "<Figure size 432x288 with 1 Axes>"
            ]
          },
          "metadata": {
            "tags": [],
            "needs_background": "light"
          }
        }
      ]
    },
    {
      "cell_type": "markdown",
      "metadata": {
        "id": "gwkLJ6QsRWK_",
        "colab_type": "text"
      },
      "source": [
        "## Step 6: Plotting the confusion matrix"
      ]
    },
    {
      "cell_type": "code",
      "metadata": {
        "id": "7Em-DZuMSNKy",
        "colab_type": "code",
        "colab": {}
      },
      "source": [
        "@torch.no_grad() # this functions execution omits gradient tracking.\n",
        "def get_all_preds(model, loader):\n",
        "    all_preds = torch.tensor([]).cuda()\n",
        "    for batch in loader:\n",
        "        images, labels = batch\n",
        "        images, labels = images.cuda(), labels.cuda() \n",
        "\n",
        "        preds = model(images)\n",
        "        preds = preds.cuda()\n",
        "        all_preds = torch.cat(\n",
        "            (all_preds, preds)\n",
        "            ,dim=0\n",
        "        )\n",
        "    return all_preds"
      ],
      "execution_count": 28,
      "outputs": []
    },
    {
      "cell_type": "code",
      "metadata": {
        "id": "MCTHOIsJSd0I",
        "colab_type": "code",
        "colab": {}
      },
      "source": [
        "all_preds = get_all_preds(model_ft, test_dataloader)\n",
        "with torch.no_grad():\n",
        "    prediction_loader = torch.utils.data.DataLoader(test_dataset, batch_size=10000)\n",
        "    test_preds = get_all_preds(model_ft, prediction_loader)"
      ],
      "execution_count": 29,
      "outputs": []
    },
    {
      "cell_type": "code",
      "metadata": {
        "id": "YiL31yBVWRyz",
        "colab_type": "code",
        "colab": {}
      },
      "source": [
        "def get_pred_as_list(test_preds):\n",
        "  test_preds = (test_preds.max(1, keepdim=True)[1]).tolist()\n",
        "\n",
        "  result = []\n",
        "  for i in range(len(test_preds)):\n",
        "    result.append(test_preds[i][0])\n",
        "\n",
        "  return result"
      ],
      "execution_count": 30,
      "outputs": []
    },
    {
      "cell_type": "code",
      "metadata": {
        "id": "j1nTYVMqL3hU",
        "colab_type": "code",
        "colab": {}
      },
      "source": [
        "def plot_confusion_matrix(cm, classes, normalize=False, title='Confusion matrix', cmap=plt.cm.Blues):\n",
        "    if normalize:\n",
        "        cm = cm.astype('float') / cm.sum(axis=1)[:, np.newaxis]\n",
        "        print(\"Normalized confusion matrix\")\n",
        "    else:\n",
        "        print('Confusion matrix, without normalization')\n",
        "\n",
        "    print(cm)\n",
        "    plt.imshow(cm, interpolation='nearest', cmap=cmap)\n",
        "    plt.title(title)\n",
        "    plt.colorbar()\n",
        "    tick_marks = np.arange(len(classes))\n",
        "    plt.xticks(tick_marks, classes, rotation=45)\n",
        "    plt.yticks(tick_marks, classes)\n",
        "\n",
        "    fmt = '.2f' if normalize else 'd'\n",
        "    thresh = cm.max() / 2.\n",
        "    for i, j in itertools.product(range(cm.shape[0]), range(cm.shape[1])):\n",
        "        plt.text(j, i, format(cm[i, j], fmt), horizontalalignment=\"center\", color=\"white\" if cm[i, j] > thresh else \"black\")\n",
        "\n",
        "    plt.tight_layout()\n",
        "    plt.ylabel('True label')\n",
        "    plt.xlabel('Predicted label')"
      ],
      "execution_count": 31,
      "outputs": []
    },
    {
      "cell_type": "code",
      "metadata": {
        "id": "NBoAXk98XTYa",
        "colab_type": "code",
        "colab": {}
      },
      "source": [
        "test_preds = get_pred_as_list(test_preds)"
      ],
      "execution_count": 32,
      "outputs": []
    },
    {
      "cell_type": "code",
      "metadata": {
        "id": "HWt3_DMiXayN",
        "colab_type": "code",
        "colab": {
          "base_uri": "https://localhost:8080/",
          "height": 35
        },
        "outputId": "6a9882f9-823e-4c86-d282-1f9ed63bcf42"
      },
      "source": [
        "accuracy_score = accuracy_score(test_preds, test_dataset.targets)\n",
        "print('Accuracy score: {0:0.2f}'.format(accuracy_score))"
      ],
      "execution_count": 33,
      "outputs": [
        {
          "output_type": "stream",
          "text": [
            "Accuracy score: 1.00\n"
          ],
          "name": "stdout"
        }
      ]
    },
    {
      "cell_type": "code",
      "metadata": {
        "id": "PUb6e-EEXnaL",
        "colab_type": "code",
        "colab": {
          "base_uri": "https://localhost:8080/",
          "height": 451
        },
        "outputId": "95677867-340d-4bf1-99ef-eff4eb3d96ee"
      },
      "source": [
        "cmt = torch.zeros(len(class_names),len(class_names), dtype=torch.int64)\n",
        "for i in range(len(test_preds)):\n",
        "  tl = test_dataset.targets[i]\n",
        "  pl = test_preds[i]\n",
        "\n",
        "  cmt[tl, pl] = cmt[tl, pl] + 1\n",
        "\n",
        "plt.figure(figsize=(5,5))\n",
        "plot_confusion_matrix(cmt, test_dataset.classes)"
      ],
      "execution_count": 34,
      "outputs": [
        {
          "output_type": "stream",
          "text": [
            "Confusion matrix, without normalization\n",
            "tensor([[12,  0,  0,  0],\n",
            "        [ 0, 13,  0,  0],\n",
            "        [ 0,  0, 13,  0],\n",
            "        [ 0,  0,  0, 12]])\n"
          ],
          "name": "stdout"
        },
        {
          "output_type": "display_data",
          "data": {
            "image/png": "[encoded data removed]",
            "text/plain": [
              "<Figure size 360x360 with 2 Axes>"
            ]
          },
          "metadata": {
            "tags": [],
            "needs_background": "light"
          }
        }
      ]
    },
    {
      "cell_type": "markdown",
      "metadata": {
        "id": "MkjSLu9lnktx",
        "colab_type": "text"
      },
      "source": [
        "### Predict an Image"
      ]
    },
    {
      "cell_type": "code",
      "metadata": {
        "id": "kLIqqwx1nHTp",
        "colab_type": "code",
        "colab": {
          "base_uri": "https://localhost:8080/",
          "height": 35
        },
        "outputId": "bb0ec9e1-66bf-4630-e977-4bb297f9921a"
      },
      "source": [
        "import PIL\n",
        "\n",
        "transform = data_transforms_with_normalization['val']\n",
        "\n",
        "PATH_TO_IMAGE = '/content/test1.jpg'\n",
        "img = PIL.Image.open(PATH_TO_IMAGE)  # Load image as PIL.Image\n",
        "x = transform(img)  # Preprocess image\n",
        "x = x.unsqueeze(0).cuda()  # Add batch dimension\n",
        "\n",
        "output = model_ft(x)  # Forward pass\n",
        "pred = torch.argmax(output, 1)  # Get predicted class if multi-class classification\n",
        "im = PIL.Image.open(PATH_TO_IMAGE)\n",
        "im.show()\n",
        "print('Image predicted as ', class_names[pred.item()])"
      ],
      "execution_count": 37,
      "outputs": [
        {
          "output_type": "stream",
          "text": [
            "Image predicted as  pink\n"
          ],
          "name": "stdout"
        }
      ]
    },
    {
      "cell_type": "code",
      "metadata": {
        "id": "KMp0RLKao361",
        "colab_type": "code",
        "colab": {
          "base_uri": "https://localhost:8080/",
          "height": 241
        },
        "outputId": "b4424d90-3ab4-4007-dbad-9cfd953aa782"
      },
      "source": [
        "from IPython.display import Image, display\n",
        "display(Image(PATH_TO_IMAGE))\n"
      ],
      "execution_count": 38,
      "outputs": [
        {
          "output_type": "display_data",
          "data": {
            "image/jpeg": "[encoded data removed]",
            "text/plain": [
              "<IPython.core.display.Image object>"
            ]
          },
          "metadata": {
            "tags": []
          }
        }
      ]
    }
  ]
}